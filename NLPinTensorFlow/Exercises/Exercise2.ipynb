{
  "nbformat": 4,
  "nbformat_minor": 0,
  "metadata": {
    "colab": {
      "name": "Exercise2.ipynb",
      "version": "0.3.2",
      "provenance": [],
      "collapsed_sections": [],
      "include_colab_link": true
    },
    "kernelspec": {
      "name": "python3",
      "display_name": "Python 3"
    },
    "accelerator": "GPU"
  },
  "cells": [
    {
      "cell_type": "markdown",
      "metadata": {
        "id": "view-in-github",
        "colab_type": "text"
      },
      "source": [
        "<a href=\"https://colab.research.google.com/github/parsa-abbasi/Hands-on-NLP/blob/master/NLPinTensorFlow/Exercises/Exercise2.ipynb\" target=\"_parent\"><img src=\"https://colab.research.google.com/assets/colab-badge.svg\" alt=\"Open In Colab\"/></a>"
      ]
    },
    {
      "cell_type": "markdown",
      "metadata": {
        "id": "ERWlECEi6Mew",
        "colab_type": "text"
      },
      "source": [
        "# Exercise 2\n",
        "This week you will build on last week’s exercise where you tokenized words from the BBC news reports dataset. This dataset contains articles that are classified into a number of different categories. See if you can design a neural network that can be trained on this dataset to accurately determine what words determine what category. Create the vecs.tsv and meta.tsv files and load them into the embedding projector."
      ]
    },
    {
      "cell_type": "markdown",
      "metadata": {
        "id": "ACEIuNJ1d_Ct",
        "colab_type": "text"
      },
      "source": [
        "## Get dataset"
      ]
    },
    {
      "cell_type": "code",
      "metadata": {
        "id": "5KnUxdtNd-jc",
        "colab_type": "code",
        "colab": {}
      },
      "source": [
        "!wget --no-check-certificate \\\n",
        "    https://storage.googleapis.com/laurencemoroney-blog.appspot.com/bbc-text.csv \\\n",
        "    -O /tmp/bbc-text.csv"
      ],
      "execution_count": 0,
      "outputs": []
    },
    {
      "cell_type": "markdown",
      "metadata": {
        "id": "lEXspfgid7Sk",
        "colab_type": "text"
      },
      "source": [
        "## Import libraries"
      ]
    },
    {
      "cell_type": "code",
      "metadata": {
        "id": "gnwiOnGyW5JK",
        "colab_type": "code",
        "colab": {}
      },
      "source": [
        "import csv\n",
        "import tensorflow as tf\n",
        "import numpy as np\n",
        "from tensorflow.keras.preprocessing.text import Tokenizer\n",
        "from tensorflow.keras.preprocessing.sequence import pad_sequences"
      ],
      "execution_count": 0,
      "outputs": []
    },
    {
      "cell_type": "markdown",
      "metadata": {
        "id": "7i4WnJRBeIAB",
        "colab_type": "text"
      },
      "source": [
        "## Set parameters"
      ]
    },
    {
      "cell_type": "code",
      "metadata": {
        "id": "EYo6A4v5ZABQ",
        "colab_type": "code",
        "colab": {}
      },
      "source": [
        "vocab_size = 900\n",
        "embedding_dim = 32\n",
        "max_length = 128\n",
        "trunc_type = 'post'\n",
        "padding_type = 'post'\n",
        "oov_tok = 'OOV'\n",
        "training_portion = .8"
      ],
      "execution_count": 0,
      "outputs": []
    },
    {
      "cell_type": "markdown",
      "metadata": {
        "id": "jlgkNm0kee3F",
        "colab_type": "text"
      },
      "source": [
        "## Stopwords"
      ]
    },
    {
      "cell_type": "code",
      "metadata": {
        "id": "iU1qq3_SZBx_",
        "colab_type": "code",
        "outputId": "c78e6b77-8f45-47ee-f2f8-f5889b789291",
        "colab": {
          "base_uri": "https://localhost:8080/",
          "height": 36
        }
      },
      "source": [
        "stopwords = [ \"a\", \"about\", \"above\", \"after\", \"again\", \"against\", \"all\", \"am\", \"an\", \"and\", \"any\", \"are\", \"as\", \"at\", \"be\", \"because\", \"been\", \"before\", \"being\", \"below\", \"between\", \"both\", \"but\", \"by\", \"could\", \"did\", \"do\", \"does\", \"doing\", \"down\", \"during\", \"each\", \"few\", \"for\", \"from\", \"further\", \"had\", \"has\", \"have\", \"having\", \"he\", \"he'd\", \"he'll\", \"he's\", \"her\", \"here\", \"here's\", \"hers\", \"herself\", \"him\", \"himself\", \"his\", \"how\", \"how's\", \"i\", \"i'd\", \"i'll\", \"i'm\", \"i've\", \"if\", \"in\", \"into\", \"is\", \"it\", \"it's\", \"its\", \"itself\", \"let's\", \"me\", \"more\", \"most\", \"my\", \"myself\", \"nor\", \"of\", \"on\", \"once\", \"only\", \"or\", \"other\", \"ought\", \"our\", \"ours\", \"ourselves\", \"out\", \"over\", \"own\", \"same\", \"she\", \"she'd\", \"she'll\", \"she's\", \"should\", \"so\", \"some\", \"such\", \"than\", \"that\", \"that's\", \"the\", \"their\", \"theirs\", \"them\", \"themselves\", \"then\", \"there\", \"there's\", \"these\", \"they\", \"they'd\", \"they'll\", \"they're\", \"they've\", \"this\", \"those\", \"through\", \"to\", \"too\", \"under\", \"until\", \"up\", \"very\", \"was\", \"we\", \"we'd\", \"we'll\", \"we're\", \"we've\", \"were\", \"what\", \"what's\", \"when\", \"when's\", \"where\", \"where's\", \"which\", \"while\", \"who\", \"who's\", \"whom\", \"why\", \"why's\", \"with\", \"would\", \"you\", \"you'd\", \"you'll\", \"you're\", \"you've\", \"your\", \"yours\", \"yourself\", \"yourselves\" ]\n",
        "print(len(stopwords))"
      ],
      "execution_count": 0,
      "outputs": [
        {
          "output_type": "stream",
          "text": [
            "153\n"
          ],
          "name": "stdout"
        }
      ]
    },
    {
      "cell_type": "markdown",
      "metadata": {
        "id": "O-vFb1pjewLE",
        "colab_type": "text"
      },
      "source": [
        "## Extract data"
      ]
    },
    {
      "cell_type": "code",
      "metadata": {
        "id": "eutB2xMiZD0e",
        "colab_type": "code",
        "colab": {}
      },
      "source": [
        "sentences = []\n",
        "labels = []\n",
        "\n",
        "with open(\"/tmp/bbc-text.csv\", 'r') as csvfile:\n",
        "    csv_reader = csv.reader(csvfile, delimiter=',')\n",
        "    next(csv_reader) # Skip header\n",
        "    for row in csv_reader:\n",
        "      labels.append(row[0]) # Add label/category\n",
        "      text = row[1]\n",
        "      sentence = ' '.join([word for word in text.split() if word not in stopwords]) # Remove stopwords\n",
        "      sentences.append(sentence) # Add sentence/text"
      ],
      "execution_count": 0,
      "outputs": []
    },
    {
      "cell_type": "code",
      "metadata": {
        "id": "8a-o0uy5fKCO",
        "colab_type": "code",
        "outputId": "9279d95c-cec3-4909-ef02-03fc0afc76fd",
        "colab": {
          "base_uri": "https://localhost:8080/",
          "height": 94
        }
      },
      "source": [
        "print(len(labels))\n",
        "print(len(sentences))\n",
        "print(sentences[0])"
      ],
      "execution_count": 0,
      "outputs": [
        {
          "output_type": "stream",
          "text": [
            "2225\n",
            "2225\n",
            "tv future hands viewers home theatre systems plasma high-definition tvs digital video recorders moving living room way people watch tv will radically different five years time. according expert panel gathered annual consumer electronics show las vegas discuss new technologies will impact one favourite pastimes. us leading trend programmes content will delivered viewers via home networks cable satellite telecoms companies broadband service providers front rooms portable devices. one talked-about technologies ces digital personal video recorders (dvr pvr). set-top boxes like us s tivo uk s sky+ system allow people record store play pause forward wind tv programmes want. essentially technology allows much personalised tv. also built-in high-definition tv sets big business japan us slower take off europe lack high-definition programming. not can people forward wind adverts can also forget abiding network channel schedules putting together a-la-carte entertainment. us networks cable satellite companies worried means terms advertising revenues well brand identity viewer loyalty channels. although us leads technology moment also concern raised europe particularly growing uptake services like sky+. happens today will see nine months years time uk adam hume bbc broadcast s futurologist told bbc news website. likes bbc no issues lost advertising revenue yet. pressing issue moment commercial uk broadcasters brand loyalty important everyone. will talking content brands rather network brands said tim hanlon brand communications firm starcom mediavest. reality broadband connections anybody can producer content. added: challenge now hard promote programme much choice. means said stacey jolna senior vice president tv guide tv group way people find content want watch simplified tv viewers. means networks us terms channels take leaf google s book search engine future instead scheduler help people find want watch. kind channel model might work younger ipod generation used taking control gadgets play them. might not suit everyone panel recognised. older generations comfortable familiar schedules channel brands know getting. perhaps not want much choice put hands mr hanlon suggested. end kids just diapers pushing buttons already - everything possible available said mr hanlon. ultimately consumer will tell market want. 50 000 new gadgets technologies showcased ces many enhancing tv-watching experience. high-definition tv sets everywhere many new models lcd (liquid crystal display) tvs launched dvr capability built instead external boxes. one example launched show humax s 26-inch lcd tv 80-hour tivo dvr dvd recorder. one us s biggest satellite tv companies directtv even launched branded dvr show 100-hours recording capability instant replay search function. set can pause rewind tv 90 hours. microsoft chief bill gates announced pre-show keynote speech partnership tivo called tivotogo means people can play recorded programmes windows pcs mobile devices. reflect increasing trend freeing multimedia people can watch want want.\n"
          ],
          "name": "stdout"
        }
      ]
    },
    {
      "cell_type": "markdown",
      "metadata": {
        "id": "nPofxx5gfShx",
        "colab_type": "text"
      },
      "source": [
        "## Prepare training and validation sets"
      ]
    },
    {
      "cell_type": "code",
      "metadata": {
        "id": "XfdaWh06ZGe3",
        "colab_type": "code",
        "colab": {}
      },
      "source": [
        "train_size = int(len(sentences) * training_portion)\n",
        "\n",
        "train_sentences = sentences[:train_size]\n",
        "train_labels = labels[:train_size]\n",
        "\n",
        "validation_sentences = sentences[train_size:]\n",
        "validation_labels = labels[train_size:]"
      ],
      "execution_count": 0,
      "outputs": []
    },
    {
      "cell_type": "code",
      "metadata": {
        "id": "U5oOAP--fmo2",
        "colab_type": "code",
        "outputId": "34596dd6-95b7-400a-b3ee-c8b8e740a8f8",
        "colab": {
          "base_uri": "https://localhost:8080/",
          "height": 111
        }
      },
      "source": [
        "print(train_size)\n",
        "print(len(train_sentences))\n",
        "print(len(train_labels))\n",
        "print(len(validation_sentences))\n",
        "print(len(validation_labels))"
      ],
      "execution_count": 0,
      "outputs": [
        {
          "output_type": "stream",
          "text": [
            "1780\n",
            "1780\n",
            "1780\n",
            "445\n",
            "445\n"
          ],
          "name": "stdout"
        }
      ]
    },
    {
      "cell_type": "markdown",
      "metadata": {
        "id": "NfZ91MMygnBH",
        "colab_type": "text"
      },
      "source": [
        "## Word encoding"
      ]
    },
    {
      "cell_type": "code",
      "metadata": {
        "id": "ULzA8xhwZI22",
        "colab_type": "code",
        "colab": {}
      },
      "source": [
        "tokenizer = Tokenizer(num_words = vocab_size, oov_token=oov_tok)\n",
        "tokenizer.fit_on_texts(train_sentences)\n",
        "word_index = tokenizer.word_index\n",
        "\n",
        "train_sequences = tokenizer.texts_to_sequences(train_sentences)\n",
        "train_padded = pad_sequences(train_sequences, padding=padding_type, maxlen=max_length)"
      ],
      "execution_count": 0,
      "outputs": []
    },
    {
      "cell_type": "code",
      "metadata": {
        "id": "6lWVNsaBgMal",
        "colab_type": "code",
        "outputId": "6b037ffb-be7b-42ff-b52d-1e16e1963056",
        "colab": {
          "base_uri": "https://localhost:8080/",
          "height": 130
        }
      },
      "source": [
        "print(len(train_sequences[0]))\n",
        "print(len(train_padded[0]))\n",
        "\n",
        "print(len(train_sequences[1]))\n",
        "print(len(train_padded[1]))\n",
        "\n",
        "print(len(train_sequences[10]))\n",
        "print(len(train_padded[10]))"
      ],
      "execution_count": 0,
      "outputs": [
        {
          "output_type": "stream",
          "text": [
            "449\n",
            "128\n",
            "200\n",
            "128\n",
            "192\n",
            "128\n"
          ],
          "name": "stdout"
        }
      ]
    },
    {
      "cell_type": "code",
      "metadata": {
        "id": "c8PeFWzPZLW_",
        "colab_type": "code",
        "colab": {}
      },
      "source": [
        "validation_sequences = tokenizer.texts_to_sequences(validation_sentences)\n",
        "validation_padded = pad_sequences(validation_sequences, padding=padding_type, maxlen=max_length)"
      ],
      "execution_count": 0,
      "outputs": []
    },
    {
      "cell_type": "code",
      "metadata": {
        "id": "jJDmORXchlvK",
        "colab_type": "code",
        "outputId": "3e70f131-771f-47e5-9211-137a4a3356f8",
        "colab": {
          "base_uri": "https://localhost:8080/",
          "height": 55
        }
      },
      "source": [
        "print(len(validation_sequences))\n",
        "print(validation_padded.shape)"
      ],
      "execution_count": 0,
      "outputs": [
        {
          "output_type": "stream",
          "text": [
            "445\n",
            "(445, 128)\n"
          ],
          "name": "stdout"
        }
      ]
    },
    {
      "cell_type": "markdown",
      "metadata": {
        "id": "Qjvf9Ml6h7kX",
        "colab_type": "text"
      },
      "source": [
        "## Label encoding"
      ]
    },
    {
      "cell_type": "code",
      "metadata": {
        "id": "XkWiQ_FKZNp2",
        "colab_type": "code",
        "colab": {}
      },
      "source": [
        "label_tokenizer = Tokenizer() # Set up a new tokenizer\n",
        "label_tokenizer.fit_on_texts(labels)\n",
        "label_index = label_tokenizer.word_index\n",
        "\n",
        "# Labels must be converted to numpy array\n",
        "training_label_seq = np.array(label_tokenizer.texts_to_sequences(train_labels))\n",
        "validation_label_seq = np.array(label_tokenizer.texts_to_sequences(validation_labels))"
      ],
      "execution_count": 0,
      "outputs": []
    },
    {
      "cell_type": "code",
      "metadata": {
        "id": "4fMxRKPaiTYV",
        "colab_type": "code",
        "outputId": "bbf2c85a-2e70-4166-e471-5df639008526",
        "colab": {
          "base_uri": "https://localhost:8080/",
          "height": 36
        }
      },
      "source": [
        "print(label_index)"
      ],
      "execution_count": 0,
      "outputs": [
        {
          "output_type": "stream",
          "text": [
            "{'sport': 1, 'business': 2, 'politics': 3, 'tech': 4, 'entertainment': 5}\n"
          ],
          "name": "stdout"
        }
      ]
    },
    {
      "cell_type": "code",
      "metadata": {
        "id": "oPArFXBIh3wR",
        "colab_type": "code",
        "outputId": "7e0aada1-7829-41ff-fa6a-2e8f1d52c487",
        "colab": {
          "base_uri": "https://localhost:8080/",
          "height": 168
        }
      },
      "source": [
        "print(training_label_seq[0])\n",
        "print(training_label_seq[1])\n",
        "print(training_label_seq[2])\n",
        "print(training_label_seq.shape)\n",
        "\n",
        "print(validation_label_seq[0])\n",
        "print(validation_label_seq[1])\n",
        "print(validation_label_seq[2])\n",
        "print(validation_label_seq.shape)"
      ],
      "execution_count": 0,
      "outputs": [
        {
          "output_type": "stream",
          "text": [
            "[4]\n",
            "[2]\n",
            "[1]\n",
            "(1780, 1)\n",
            "[5]\n",
            "[4]\n",
            "[3]\n",
            "(445, 1)\n"
          ],
          "name": "stdout"
        }
      ]
    },
    {
      "cell_type": "markdown",
      "metadata": {
        "id": "dCwr9FfRlWd4",
        "colab_type": "text"
      },
      "source": [
        "## Neural network model"
      ]
    },
    {
      "cell_type": "code",
      "metadata": {
        "id": "HZ5um4MWZP-W",
        "colab_type": "code",
        "outputId": "0c6a5332-b00e-44a8-f80d-3fd5a950ae4d",
        "colab": {
          "base_uri": "https://localhost:8080/",
          "height": 471
        }
      },
      "source": [
        "model = tf.keras.Sequential([\n",
        "    tf.keras.layers.Embedding(vocab_size, embedding_dim, input_length=max_length),\n",
        "    tf.keras.layers.GlobalAveragePooling1D(),\n",
        "    tf.keras.layers.Dense(36, activation='relu'),\n",
        "    tf.keras.layers.Dense(6, activation='softmax')\n",
        "])\n",
        "model.compile(loss='sparse_categorical_crossentropy',optimizer='adam',metrics=['accuracy'])\n",
        "model.summary()"
      ],
      "execution_count": 0,
      "outputs": [
        {
          "output_type": "stream",
          "text": [
            "WARNING: Logging before flag parsing goes to stderr.\n",
            "W0817 12:42:30.333616 140577854039936 deprecation.py:506] From /usr/local/lib/python3.6/dist-packages/tensorflow/python/keras/initializers.py:119: calling RandomUniform.__init__ (from tensorflow.python.ops.init_ops) with dtype is deprecated and will be removed in a future version.\n",
            "Instructions for updating:\n",
            "Call initializer instance with the dtype argument instead of passing it to the constructor\n",
            "W0817 12:42:30.340462 140577854039936 deprecation.py:506] From /usr/local/lib/python3.6/dist-packages/tensorflow/python/ops/init_ops.py:1251: calling VarianceScaling.__init__ (from tensorflow.python.ops.init_ops) with dtype is deprecated and will be removed in a future version.\n",
            "Instructions for updating:\n",
            "Call initializer instance with the dtype argument instead of passing it to the constructor\n"
          ],
          "name": "stderr"
        },
        {
          "output_type": "stream",
          "text": [
            "Model: \"sequential\"\n",
            "_________________________________________________________________\n",
            "Layer (type)                 Output Shape              Param #   \n",
            "=================================================================\n",
            "embedding (Embedding)        (None, 128, 32)           28800     \n",
            "_________________________________________________________________\n",
            "global_average_pooling1d (Gl (None, 32)                0         \n",
            "_________________________________________________________________\n",
            "dense (Dense)                (None, 36)                1188      \n",
            "_________________________________________________________________\n",
            "dense_1 (Dense)              (None, 6)                 222       \n",
            "=================================================================\n",
            "Total params: 30,210\n",
            "Trainable params: 30,210\n",
            "Non-trainable params: 0\n",
            "_________________________________________________________________\n"
          ],
          "name": "stdout"
        }
      ]
    },
    {
      "cell_type": "code",
      "metadata": {
        "id": "XsfdxySKZSXu",
        "colab_type": "code",
        "outputId": "b7d095ae-5341-4f30-f514-5d912e137517",
        "colab": {
          "base_uri": "https://localhost:8080/",
          "height": 1000
        }
      },
      "source": [
        "num_epochs = 30\n",
        "history = model.fit(train_padded, training_label_seq, epochs=num_epochs, validation_data=(validation_padded, validation_label_seq), verbose=2)"
      ],
      "execution_count": 0,
      "outputs": [
        {
          "output_type": "stream",
          "text": [
            "Train on 1780 samples, validate on 445 samples\n",
            "Epoch 1/30\n",
            "1780/1780 - 1s - loss: 1.7472 - acc: 0.3719 - val_loss: 1.6882 - val_acc: 0.4809\n",
            "Epoch 2/30\n",
            "1780/1780 - 0s - loss: 1.6157 - acc: 0.5522 - val_loss: 1.5318 - val_acc: 0.5461\n",
            "Epoch 3/30\n",
            "1780/1780 - 0s - loss: 1.4222 - acc: 0.6017 - val_loss: 1.3196 - val_acc: 0.6539\n",
            "Epoch 4/30\n",
            "1780/1780 - 0s - loss: 1.1601 - acc: 0.8022 - val_loss: 1.0540 - val_acc: 0.8135\n",
            "Epoch 5/30\n",
            "1780/1780 - 0s - loss: 0.8806 - acc: 0.8798 - val_loss: 0.8125 - val_acc: 0.8966\n",
            "Epoch 6/30\n",
            "1780/1780 - 0s - loss: 0.6451 - acc: 0.9303 - val_loss: 0.6149 - val_acc: 0.9146\n",
            "Epoch 7/30\n",
            "1780/1780 - 0s - loss: 0.4734 - acc: 0.9416 - val_loss: 0.4840 - val_acc: 0.9236\n",
            "Epoch 8/30\n",
            "1780/1780 - 0s - loss: 0.3532 - acc: 0.9528 - val_loss: 0.3992 - val_acc: 0.9191\n",
            "Epoch 9/30\n",
            "1780/1780 - 0s - loss: 0.2765 - acc: 0.9596 - val_loss: 0.3390 - val_acc: 0.9169\n",
            "Epoch 10/30\n",
            "1780/1780 - 0s - loss: 0.2201 - acc: 0.9669 - val_loss: 0.3016 - val_acc: 0.9169\n",
            "Epoch 11/30\n",
            "1780/1780 - 0s - loss: 0.1821 - acc: 0.9708 - val_loss: 0.2769 - val_acc: 0.9281\n",
            "Epoch 12/30\n",
            "1780/1780 - 0s - loss: 0.1530 - acc: 0.9753 - val_loss: 0.2514 - val_acc: 0.9258\n",
            "Epoch 13/30\n",
            "1780/1780 - 0s - loss: 0.1295 - acc: 0.9820 - val_loss: 0.2396 - val_acc: 0.9236\n",
            "Epoch 14/30\n",
            "1780/1780 - 0s - loss: 0.1107 - acc: 0.9837 - val_loss: 0.2250 - val_acc: 0.9326\n",
            "Epoch 15/30\n",
            "1780/1780 - 0s - loss: 0.0961 - acc: 0.9854 - val_loss: 0.2185 - val_acc: 0.9326\n",
            "Epoch 16/30\n",
            "1780/1780 - 0s - loss: 0.0836 - acc: 0.9916 - val_loss: 0.2102 - val_acc: 0.9371\n",
            "Epoch 17/30\n",
            "1780/1780 - 0s - loss: 0.0729 - acc: 0.9927 - val_loss: 0.2037 - val_acc: 0.9371\n",
            "Epoch 18/30\n",
            "1780/1780 - 0s - loss: 0.0640 - acc: 0.9949 - val_loss: 0.1997 - val_acc: 0.9348\n",
            "Epoch 19/30\n",
            "1780/1780 - 0s - loss: 0.0564 - acc: 0.9972 - val_loss: 0.1971 - val_acc: 0.9393\n",
            "Epoch 20/30\n",
            "1780/1780 - 0s - loss: 0.0493 - acc: 0.9983 - val_loss: 0.1932 - val_acc: 0.9371\n",
            "Epoch 21/30\n",
            "1780/1780 - 0s - loss: 0.0441 - acc: 0.9989 - val_loss: 0.1926 - val_acc: 0.9371\n",
            "Epoch 22/30\n",
            "1780/1780 - 0s - loss: 0.0389 - acc: 0.9989 - val_loss: 0.1907 - val_acc: 0.9393\n",
            "Epoch 23/30\n",
            "1780/1780 - 0s - loss: 0.0344 - acc: 0.9989 - val_loss: 0.1913 - val_acc: 0.9416\n",
            "Epoch 24/30\n",
            "1780/1780 - 0s - loss: 0.0311 - acc: 0.9994 - val_loss: 0.1879 - val_acc: 0.9393\n",
            "Epoch 25/30\n",
            "1780/1780 - 0s - loss: 0.0275 - acc: 0.9994 - val_loss: 0.1884 - val_acc: 0.9416\n",
            "Epoch 26/30\n",
            "1780/1780 - 0s - loss: 0.0249 - acc: 0.9994 - val_loss: 0.1886 - val_acc: 0.9393\n",
            "Epoch 27/30\n",
            "1780/1780 - 0s - loss: 0.0221 - acc: 0.9994 - val_loss: 0.1872 - val_acc: 0.9393\n",
            "Epoch 28/30\n",
            "1780/1780 - 0s - loss: 0.0199 - acc: 1.0000 - val_loss: 0.1915 - val_acc: 0.9416\n",
            "Epoch 29/30\n",
            "1780/1780 - 0s - loss: 0.0182 - acc: 1.0000 - val_loss: 0.1895 - val_acc: 0.9416\n",
            "Epoch 30/30\n",
            "1780/1780 - 0s - loss: 0.0164 - acc: 1.0000 - val_loss: 0.1879 - val_acc: 0.9438\n"
          ],
          "name": "stdout"
        }
      ]
    },
    {
      "cell_type": "code",
      "metadata": {
        "id": "dQ0BX2apXS9u",
        "colab_type": "code",
        "outputId": "e5587924-2c7d-44c5-ea8d-0a58e78334df",
        "colab": {
          "base_uri": "https://localhost:8080/",
          "height": 549
        }
      },
      "source": [
        "import matplotlib.pyplot as plt\n",
        "\n",
        "\n",
        "def plot_graphs(history, string):\n",
        "  plt.plot(history.history[string])\n",
        "  plt.plot(history.history['val_'+string])\n",
        "  plt.xlabel(\"Epochs\")\n",
        "  plt.ylabel(string)\n",
        "  plt.legend([string, 'val_'+string])\n",
        "  plt.show()\n",
        "  \n",
        "plot_graphs(history, \"acc\")\n",
        "plot_graphs(history, \"loss\")"
      ],
      "execution_count": 0,
      "outputs": [
        {
          "output_type": "display_data",
          "data": {
            "image/png": "[encoded data removed]",
            "text/plain": [
              "<Figure size 432x288 with 1 Axes>"
            ]
          },
          "metadata": {
            "tags": []
          }
        },
        {
          "output_type": "display_data",
          "data": {
            "image/png": "[encoded data removed]",
            "text/plain": [
              "<Figure size 432x288 with 1 Axes>"
            ]
          },
          "metadata": {
            "tags": []
          }
        }
      ]
    },
    {
      "cell_type": "markdown",
      "metadata": {
        "id": "A1nGIN7lliRo",
        "colab_type": "text"
      },
      "source": [
        "# Visualization of Embedding\n",
        "\n",
        "Visualizing embedded words using TensorFlow Projector\n",
        "\n",
        "*   First, make vectors and metadata .tsv files\n",
        "*   Then, load them into [https://projector.tensorflow.org/](https://projector.tensorflow.org/)\n",
        "\n",
        "\n",
        "\n"
      ]
    },
    {
      "cell_type": "code",
      "metadata": {
        "id": "w7Xc-uWxXhML",
        "colab_type": "code",
        "colab": {}
      },
      "source": [
        "reverse_word_index = dict([(value, key) for (key, value) in word_index.items()])\n",
        "\n",
        "def decode_sentence(text):\n",
        "    return ' '.join([reverse_word_index.get(i, '?') for i in text])"
      ],
      "execution_count": 0,
      "outputs": []
    },
    {
      "cell_type": "code",
      "metadata": {
        "id": "OhnFA_TDXrih",
        "colab_type": "code",
        "outputId": "42bbfa51-8bf5-4e48-d64d-307d11611610",
        "colab": {
          "base_uri": "https://localhost:8080/",
          "height": 36
        }
      },
      "source": [
        "e = model.layers[0]\n",
        "weights = e.get_weights()[0]\n",
        "print(weights.shape) # shape: (vocab_size, embedding_dim)"
      ],
      "execution_count": 0,
      "outputs": [
        {
          "output_type": "stream",
          "text": [
            "(900, 32)\n"
          ],
          "name": "stdout"
        }
      ]
    },
    {
      "cell_type": "code",
      "metadata": {
        "id": "_POzcWWAXudL",
        "colab_type": "code",
        "colab": {}
      },
      "source": [
        "import io\n",
        "\n",
        "out_v = io.open('vecs.tsv', 'w', encoding='utf-8')\n",
        "out_m = io.open('meta.tsv', 'w', encoding='utf-8')\n",
        "for word_num in range(1, vocab_size):\n",
        "  word = reverse_word_index[word_num]\n",
        "  embeddings = weights[word_num]\n",
        "  out_m.write(word + \"\\n\")\n",
        "  out_v.write('\\t'.join([str(x) for x in embeddings]) + \"\\n\")\n",
        "out_v.close()\n",
        "out_m.close()"
      ],
      "execution_count": 0,
      "outputs": []
    },
    {
      "cell_type": "code",
      "metadata": {
        "id": "VmqpQMZ_XyOa",
        "colab_type": "code",
        "colab": {}
      },
      "source": [
        "try:\n",
        "  from google.colab import files\n",
        "except ImportError:\n",
        "  pass\n",
        "else:\n",
        "  files.download('vecs.tsv')\n",
        "  files.download('meta.tsv')"
      ],
      "execution_count": 0,
      "outputs": []
    }
  ]
}